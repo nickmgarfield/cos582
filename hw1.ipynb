{
 "cells": [
  {
   "cell_type": "code",
   "execution_count": 45,
   "metadata": {},
   "outputs": [
    {
     "name": "stdout",
     "output_type": "stream",
     "text": [
      "<!DOCTYPE html PUBLIC \"-//W3C//DTD HTML 4.01 Transitional//EN\">\n",
      "<html>\n",
      "<head><meta http-equiv=\"content-type\" content=\"text/html; charset=utf-8\"><meta name=\"viewport\" content=\"initial-scale=1\"><title>https://scholar.google.com/scholar?start=0&amp;q=machine+learning&amp;hl=en&amp;as_sdt=0%2C20&amp;as_ylo=2022</title></head>\n",
      "<body style=\"font-family: arial, sans-serif; background-color: #fff; color: #000; padding:20px; font-size:18px; overscroll-behavior:contain;\" onload=\"e=document.getElementById('captcha');if(e){e.focus();} if(solveSimpleChallenge) {solveSimpleChallenge(,);}\">\n",
      "<div style=\"max-width:400px;\">\n",
      "<hr noshade size=\"1\" style=\"color:#ccc; background-color:#ccc;\"><br>\n",
      "<form id=\"captcha-form\" action=\"index\" method=\"post\">\n",
      "<noscript>\n",
      "<div style=\"font-size:13px;\">\n",
      "  In order to continue, please enable javascript on your web browser.\n",
      "</div>\n",
      "</noscript>\n",
      "<script src=\"https://www.google.com/recaptcha/api.js\" async defer></script>\n",
      "<script>var submitCallback = function(response) {document.getElementById('captcha-form').submit();};</script>\n",
      "<div id=\"recaptcha\" class=\"g-recaptcha\" data-sitekey=\"6LfwuyUTAAAAAOAmoS0fdqijC2PbbdH4kjq62Y1b\" data-callback=\"submitCallback\" data-s=\"tcjkT4D1kUFYyHWqn85mm7ql4rguI4LM1eCSwDaCzFwuyKbwoKPmOqQZv9zX6t7JsNDNFNutG9RJxnzKtg8WeoRZ7aRcx52xKrhzO4esUoPweXviaQhFUh_3rq34hZFHmeXaYi4iHmc7vqHUIdNP09QTmBHrOkvJGG_7S8U4eRvzht8mbA87R0eF12sDZfGbYmB2GMg6XiiHUvwOYdyum6H3BuUqg9EiWEjc-mFXsJD5lwdQBTNvRjCBBkozcN7zM6CEA4s3hlJOXd5M0XdgmjAg\"></div>\n",
      "\n",
      "<input type='hidden' name='q' value='EgSCb2UrGLCB8bcGIiw3hqUYi_pC5-j9vGPQeTr1pym_bj5QDrn-Ypi9cDMWjYqmOeLaJohfiL04xjIBcloBQw'><input type=\"hidden\" name=\"continue\" value=\"https://scholar.google.com/scholar?start=0&amp;q=machine+learning&amp;hl=en&amp;as_sdt=0%2C20&amp;as_ylo=2022\">\n",
      "</form>\n",
      "<hr noshade size=\"1\" style=\"color:#ccc; background-color:#ccc;\">\n",
      "\n",
      "<div style=\"font-size:13px;\">\n",
      "<b>About this page</b><br><br>\n",
      "\n",
      "Our systems have detected unusual traffic from your computer network.  This page checks to see if it&#39;s really you sending the requests, and not a robot.  <a href=\"#\" onclick=\"document.getElementById('infoDiv').style.display='block';\">Why did this happen?</a><br><br>\n",
      "\n",
      "<div id=\"infoDiv\" style=\"display:none; background-color:#eee; padding:10px; margin:0 0 15px 0; line-height:1.4em;\">\n",
      "This page appears when Google automatically detects requests coming from your computer network which appear to be in violation of the <a href=\"//www.google.com/policies/terms/\">Terms of Service</a>. The block will expire shortly after those requests stop.  In the meantime, solving the above CAPTCHA will let you continue to use our services.<br><br>This traffic may have been sent by malicious software, a browser plug-in, or a script that sends automated requests.  If you share your network connection, ask your administrator for help &mdash; a different computer using the same IP address may be responsible.  <a href=\"//support.google.com/websearch/answer/86640\">Learn more</a><br><br>Sometimes you may be asked to solve the CAPTCHA if you are using advanced terms that robots are known to use, or sending requests very quickly.\n",
      "</div>\n",
      "\n",
      "IP address: 130.111.101.43<br>Time: 2024-10-01T18:34:24Z<br>URL: https://scholar.google.com/scholar?start=0&amp;q=machine+learning&amp;hl=en&amp;as_sdt=0%2C20&amp;as_ylo=2022<br>\n",
      "</div>\n",
      "</div>\n",
      "</body>\n",
      "</html>\n",
      "\n"
     ]
    }
   ],
   "source": [
    "import requests\n",
    "import furl\n",
    "import pandas as pd\n",
    "import time\n",
    "from bs4 import BeautifulSoup\n",
    "\n",
    "url = furl.furl(\"https://scholar.google.com/scholar?start=0&q=machine+learning&hl=en&as_sdt=0,20&as_ylo=2022\")\n",
    "\n",
    "def get_all_articles(start: int):\n",
    "    url.args[\"start\"] = start\n",
    "    response = requests.get(\n",
    "        url=url.url\n",
    "    )\n",
    "    print(response.text)\n",
    "    soup = BeautifulSoup(response.content, \"lxml\")\n",
    "    return soup.find_all(\"div\", class_=\"gs_ri\")\n",
    "\n",
    "def get_article_data(article):\n",
    "    title = article.find(\"h3\", class_=\"gs_rt\").get_text(strip=False)\n",
    "    publication_info = article.find(\"div\", class_=\"gs_a\").get_text(strip=False)\n",
    "    citation_bar = article.find(\"div\", class_=\"gs_fl gs_flb\").find_all(\"a\")\n",
    "    cited_by = next((cite.text for cite in citation_bar if \"Cited by\" in cite.text), None)\n",
    "    print(title, publication_info, cited_by)\n",
    "    return title, publication_info, cited_by\n",
    "\n",
    "raw_data = []\n",
    "start = 0\n",
    "all_articles = get_all_articles(start)\n",
    "while len(all_articles) > 0:\n",
    "    raw_data = raw_data + [get_article_data(article) for article in all_articles]\n",
    "    start += 10\n",
    "    time.sleep(2.)\n",
    "    all_articles = get_all_articles(start)\n",
    "    \n",
    "data = pd.DataFrame(data=raw_data, columns=[\"title\", \"publication_info\", \"cited_by\"])\n",
    "data.to_csv(\"ml_articles_info.csv\")\n",
    "\n"
   ]
  },
  {
   "cell_type": "code",
   "execution_count": null,
   "metadata": {},
   "outputs": [],
   "source": []
  }
 ],
 "metadata": {
  "kernelspec": {
   "display_name": "cos582-kLHNwRJ4-py3.10",
   "language": "python",
   "name": "python3"
  },
  "language_info": {
   "codemirror_mode": {
    "name": "ipython",
    "version": 3
   },
   "file_extension": ".py",
   "mimetype": "text/x-python",
   "name": "python",
   "nbconvert_exporter": "python",
   "pygments_lexer": "ipython3",
   "version": "3.10.5"
  }
 },
 "nbformat": 4,
 "nbformat_minor": 2
}
